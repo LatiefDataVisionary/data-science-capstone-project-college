{
  "cells": [
    {
      "cell_type": "markdown",
      "metadata": {
        "id": "view-in-github",
        "colab_type": "text"
      },
      "source": [
        "<a href=\"https://colab.research.google.com/github/LatiefDataVisionary/data-science-capstone-project-college/blob/main/04_programmatic_labeling_bilingual_part2.ipynb\" target=\"_parent\"><img src=\"https://colab.research.google.com/assets/colab-badge.svg\" alt=\"Open In Colab\"/></a>"
      ]
    },
    {
      "cell_type": "code",
      "execution_count": null,
      "id": "456c0d39-3231-4303-b85d-46615dc6c1e5",
      "metadata": {
        "id": "456c0d39-3231-4303-b85d-46615dc6c1e5"
      },
      "outputs": [],
      "source": [
        "# import kagglehub\n",
        "import pandas as pd\n",
        "import torch\n",
        "import torch.nn as nn\n",
        "import torch.optim as optim\n",
        "from torch.optim import lr_scheduler\n",
        "import torch.backends.cudnn as cudnn\n",
        "import numpy as np\n",
        "import torchvision\n",
        "from torchvision import datasets, models, transforms\n",
        "import matplotlib.pyplot as plt\n",
        "import time\n",
        "import os\n",
        "from PIL import Image\n",
        "from tempfile import TemporaryDirectory\n",
        "\n",
        "# # Download latest version\n",
        "# path = kagglehub.dataset_download(\"ucupsedaya/gojek-app-reviews-bahasa-indonesia\")\n",
        "\n",
        "# print(\"Path to dataset files:\", path)\n",
        "\n",
        "# df = pd.read_csv(path + '\\GojekAppReviewV4.0.0-V4.9.3_Cleaned.csv', encoding='unicode_escape')\n",
        "# df = pd.read_csv(\"D:\\Code\\Capstone\\dataset_komentar_instagram_cyberbullying.csv\")\n",
        "df = pd.read_csv('https://raw.githubusercontent.com/LatiefDataVisionary/data-science-capstone-project-college/refs/heads/main/data/processed/reviews_cleaned_id.csv')\n",
        "df = df.dropna()"
      ]
    },
    {
      "cell_type": "code",
      "execution_count": null,
      "id": "1005b2f5-30a1-42ed-bb22-dd7b70e3e620",
      "metadata": {
        "id": "1005b2f5-30a1-42ed-bb22-dd7b70e3e620"
      },
      "outputs": [],
      "source": [
        "df = df\n",
        "df"
      ]
    },
    {
      "cell_type": "code",
      "execution_count": null,
      "id": "80f82d4b-afbc-4a19-af9d-10ce76d244fb",
      "metadata": {
        "id": "80f82d4b-afbc-4a19-af9d-10ce76d244fb"
      },
      "outputs": [],
      "source": [
        "# df = df.rename(columns={\"Sentiment\":'sentiment', \"Instagram Comment Text\":\"text\"})\n",
        "df = df.rename(columns={\"Sentiment\":'sentiment', \"cleaned_content\":\"text\"})"
      ]
    },
    {
      "cell_type": "code",
      "execution_count": null,
      "id": "9ff995a8-fe33-49d1-b450-8dd0e81a1889",
      "metadata": {
        "id": "9ff995a8-fe33-49d1-b450-8dd0e81a1889"
      },
      "outputs": [],
      "source": [
        "device = torch.accelerator.current_accelerator().type if torch.accelerator.is_available() else \"cpu\"\n",
        "print(f\"Using {device} device\")"
      ]
    },
    {
      "cell_type": "code",
      "execution_count": null,
      "id": "b5d5e6dc-640a-4c0f-a41a-5d375a6a713c",
      "metadata": {
        "id": "b5d5e6dc-640a-4c0f-a41a-5d375a6a713c"
      },
      "outputs": [],
      "source": [
        "from transformers import pipeline\n",
        "from transformers import AutoTokenizer, AutoModelForSequenceClassification\n",
        "\n",
        "pretrained= \"mdhugol/indonesia-bert-sentiment-classification\"\n",
        "\n",
        "model = AutoModelForSequenceClassification.from_pretrained(pretrained)\n",
        "tokenizer = AutoTokenizer.from_pretrained(pretrained)\n",
        "\n",
        "sentiment_analysis = pipeline(\"sentiment-analysis\", model=model, tokenizer=tokenizer)\n",
        "\n",
        "label_index = {'LABEL_0': 'positive', 'LABEL_1': 'neutral', 'LABEL_2': 'negative'}\n",
        "\n",
        "pos_text = \"aplikasinya lumayan cepet\"\n",
        "neg_text = \"Dasar anak sialan!! Kurang ajar!!\"\n",
        "\n",
        "result = sentiment_analysis(pos_text)\n",
        "status = label_index[result[0]['label']]\n",
        "score = result[0]['score']\n",
        "print(f'Text: {pos_text} | Label : {status} ({score * 100:.3f}%)')\n",
        "\n",
        "result = sentiment_analysis(neg_text)\n",
        "status = label_index[result[0]['label']]\n",
        "score = result[0]['score']\n",
        "print(f'Text: {neg_text} | Label : {status} ({score * 100:.3f}%)')"
      ]
    },
    {
      "cell_type": "code",
      "execution_count": null,
      "id": "9c740afa-b6d3-48e6-8a60-d6b07f05e282",
      "metadata": {
        "id": "9c740afa-b6d3-48e6-8a60-d6b07f05e282"
      },
      "outputs": [],
      "source": [
        "from torch.utils.data import Dataset, DataLoader\n",
        "import torch\n",
        "\n",
        "class SentimentDataset(Dataset):\n",
        "    def __init__(self, dataframe, tokenizer, max_len):\n",
        "        self.dataframe = dataframe\n",
        "        self.tokenizer = tokenizer\n",
        "        self.max_len = max_len\n",
        "\n",
        "    def __len__(self):\n",
        "        return len(self.dataframe)\n",
        "\n",
        "    def __getitem__(self, index):\n",
        "        text = str(self.dataframe.loc[index, 'text'])\n",
        "        # sentiment = self.dataframe.loc[index, 'sentiment']\n",
        "\n",
        "        encoding = self.tokenizer.encode_plus(\n",
        "            text,\n",
        "            add_special_tokens=True,\n",
        "            max_length=self.max_len,\n",
        "            return_token_type_ids=False,\n",
        "            padding='max_length', # Changed from pad_to_max_length=True\n",
        "            return_attention_mask=True,\n",
        "            return_tensors='pt',\n",
        "            truncation=True\n",
        "        )\n",
        "\n",
        "        # Map sentiment string to numerical label\n",
        "        # sentiment_map = {'positive': 0, 'neutral': 1, 'negative': 2}\n",
        "        # label = sentiment_map[sentiment]\n",
        "\n",
        "        return {\n",
        "            'text': text,\n",
        "            'input_ids': encoding['input_ids'].flatten(),\n",
        "            'attention_mask': encoding['attention_mask'].flatten(),\n",
        "            # 'labels': torch.tensor(label, dtype=torch.long)\n",
        "        }"
      ]
    },
    {
      "cell_type": "code",
      "execution_count": null,
      "id": "b699d63d-10c5-4582-b468-970d703c06e3",
      "metadata": {
        "id": "b699d63d-10c5-4582-b468-970d703c06e3"
      },
      "outputs": [],
      "source": [
        "# from sklearn.model_selection import train_test_split\n",
        "\n",
        "# # Assuming 'df' is your pandas DataFrame with 'text' and 'sentiment' columns\n",
        "# # and 'tokenizer' is your loaded tokenizer\n",
        "# # and 'max_len' is the maximum sequence length\n",
        "\n",
        "# # Split data into training and validation sets\n",
        "# train_df, val_df = train_test_split(df, test_size=0.2, random_state=42)\n",
        "\n",
        "# # Create Dataset instances\n",
        "# train_dataset = SentimentDataset(train_df.reset_index(drop=True), tokenizer, max_len=128) # Adjust max_len as needed\n",
        "# val_dataset = SentimentDataset(val_df.reset_index(drop=True), tokenizer, max_len=128)   # Adjust max_len as needed\n",
        "\n",
        "# # Create DataLoader instances\n",
        "# BATCH_SIZE = 16 # Adjust batch size as needed\n",
        "# train_dataloader = DataLoader(train_dataset, batch_size=BATCH_SIZE, shuffle=True)\n",
        "# val_dataloader = DataLoader(val_dataset, batch_size=BATCH_SIZE)\n",
        "\n",
        "# print(\"Train DataLoader created with\", len(train_dataloader), \"batches\")\n",
        "# print(\"Validation DataLoader created with\", len(val_dataloader), \"batches\")"
      ]
    },
    {
      "cell_type": "markdown",
      "source": [
        "## **Labeling**"
      ],
      "metadata": {
        "id": "peJVisUHzAGg"
      },
      "id": "peJVisUHzAGg"
    },
    {
      "cell_type": "code",
      "source": [
        "test_dataset = SentimentDataset(df.reset_index(drop=True), tokenizer, max_len=128) # Adjust max_len as needed\n",
        "test_dataloader = DataLoader(test_dataset, batch_size=16)"
      ],
      "metadata": {
        "id": "IXkx9ZDxvRKr"
      },
      "id": "IXkx9ZDxvRKr",
      "execution_count": null,
      "outputs": []
    },
    {
      "cell_type": "code",
      "execution_count": null,
      "id": "2192e058-c79d-4290-831a-c6b7f43cbd56",
      "metadata": {
        "id": "2192e058-c79d-4290-831a-c6b7f43cbd56"
      },
      "outputs": [],
      "source": [
        "model_ft = model\n",
        "# num_ftrs = model_ft.fc.in_features\n",
        "# Here the size of each output sample is set to 2.\n",
        "# Alternatively, it can be generalized to ``nn.Linear(num_ftrs, len(class_names))``.\n",
        "# model_ft.fc = nn.Linear(num_ftrs, 2)\n",
        "device = torch.accelerator.current_accelerator().type if torch.accelerator.is_available() else \"cpu\"\n",
        "print(f\"Using {device} device\")\n",
        "\n",
        "model_ft = model_ft.to(device)\n",
        "\n",
        "criterion = nn.CrossEntropyLoss()\n",
        "\n",
        "# Observe that all parameters are being optimized\n",
        "optimizer_ft = optim.SGD(model_ft.parameters(), lr=0.001, momentum=0.9)\n",
        "\n",
        "# Decay LR by a factor of 0.1 every 7 epochs\n",
        "exp_lr_scheduler = lr_scheduler.StepLR(optimizer_ft, step_size=7, gamma=0.1)"
      ]
    },
    {
      "cell_type": "code",
      "execution_count": null,
      "id": "b3939e10-a2de-4abc-9f36-40e4bf953069",
      "metadata": {
        "id": "b3939e10-a2de-4abc-9f36-40e4bf953069"
      },
      "outputs": [],
      "source": [
        "phase = \"test\"\n",
        "running_loss = 0\n",
        "running_corrects = 0\n",
        "n = len(df)\n",
        "y_list = []\n",
        "\n",
        "# Use DataLoader for test_loader\n",
        "\n",
        "\n",
        "for batch in test_dataloader:\n",
        "    inputs = {\n",
        "        'input_ids': batch['input_ids'].to(device),\n",
        "        'attention_mask': batch['attention_mask'].to(device)\n",
        "    }\n",
        "    # labels = batch['labels'].to(device)\n",
        "    # print(inputs)\n",
        "\n",
        "    # zero the parameter gradients\n",
        "    # optimizer.zero_grad()\n",
        "\n",
        "    # forward\n",
        "    # track history if only in train\n",
        "    with torch.no_grad(): # Use torch.no_grad() for evaluation phase\n",
        "        # Access the logits explicitly\n",
        "        outputs = model(**inputs).logits\n",
        "        # print('test')\n",
        "        _, preds = torch.max(outputs, 1)\n",
        "        # print(preds)\n",
        "        y_list.append(preds)\n",
        "        # loss = criterion(outputs, labels) # No labels in test set\n",
        "\n",
        "    # statistics\n",
        "    # running_loss += loss.item() * labels.size(0) # No labels in test set\n",
        "    # running_corrects += torch.sum(preds == labels.data) # No labels in test set\n",
        "\n",
        "y_val = torch.cat(y_list, 0)\n",
        "\n",
        "# Calculate evaluation metrics (e.g., accuracy if labels were available)\n",
        "# Since no labels are available, we can just print the predictions or analyze y_val\n",
        "print(\"Predictions concatenated:\", y_val)"
      ]
    },
    {
      "cell_type": "code",
      "metadata": {
        "id": "9903aacd"
      },
      "source": [
        "# Convert the predictions to a list\n",
        "y_pred_list = y_val.cpu().numpy().tolist()\n",
        "\n",
        "# Map numerical predictions to sentiment strings using label_index\n",
        "predicted_sentiments = [label_index[f'LABEL_{pred}'] for pred in y_pred_list]\n",
        "\n",
        "# Add the predicted sentiments as a new column to the DataFrame\n",
        "df['predicted_sentiment'] = predicted_sentiments\n",
        "\n",
        "# Display the updated DataFrame\n",
        "display(df)"
      ],
      "id": "9903aacd",
      "execution_count": null,
      "outputs": []
    },
    {
      "cell_type": "markdown",
      "source": [
        "## **Transfer learning/ fine tuning model**"
      ],
      "metadata": {
        "id": "G7ViH4MkzPa1"
      },
      "id": "G7ViH4MkzPa1"
    },
    {
      "cell_type": "code",
      "execution_count": null,
      "id": "674608ff-7986-4bcb-94f0-911511870b75",
      "metadata": {
        "id": "674608ff-7986-4bcb-94f0-911511870b75"
      },
      "outputs": [],
      "source": [
        "# License: BSD\n",
        "# Author: Sasank Chilamkurthy\n",
        "\n",
        "import torch\n",
        "import torch.nn as nn\n",
        "import torch.optim as optim\n",
        "from torch.optim import lr_scheduler\n",
        "import torch.backends.cudnn as cudnn\n",
        "import numpy as np\n",
        "import torchvision\n",
        "from torchvision import datasets, models, transforms\n",
        "import matplotlib.pyplot as plt\n",
        "import time\n",
        "import os\n",
        "from PIL import Image\n",
        "from tempfile import TemporaryDirectory\n",
        "\n",
        "cudnn.benchmark = True\n",
        "plt.ion()   # interactive mode\n",
        "\n",
        "def train_model(model, criterion, optimizer, scheduler, num_epochs=25):\n",
        "    since = time.time()\n",
        "\n",
        "    # Create a temporary directory to save training checkpoints\n",
        "    with TemporaryDirectory() as tempdir:\n",
        "        best_model_params_path = os.path.join(tempdir, 'best_model_params.pt')\n",
        "\n",
        "        torch.save(model.state_dict(), best_model_params_path)\n",
        "        best_acc = 0.0\n",
        "\n",
        "        for epoch in range(num_epochs):\n",
        "            print(f'Epoch {epoch}/{num_epochs - 1}')\n",
        "            print('-' * 10)\n",
        "\n",
        "            # Each epoch has a training and validation phase\n",
        "            for phase in ['train', 'val']:\n",
        "                if phase == 'train':\n",
        "                    model.train()  # Set model to training mode\n",
        "                    dataloader = train_dataloader\n",
        "                else:\n",
        "                    model.eval()   # Set model to evaluate mode\n",
        "                    dataloader = val_dataloader\n",
        "\n",
        "                running_loss = 0.0\n",
        "                running_corrects = 0\n",
        "\n",
        "                # Iterate over data.\n",
        "                for batch in dataloader:\n",
        "                    inputs = {\n",
        "                        'input_ids': batch['input_ids'].to(device),\n",
        "                        'attention_mask': batch['attention_mask'].to(device)\n",
        "                    }\n",
        "                    labels = batch['labels'].to(device)\n",
        "\n",
        "                    # zero the parameter gradients\n",
        "                    optimizer.zero_grad()\n",
        "\n",
        "                    # forward\n",
        "                    # track history if only in train\n",
        "                    with torch.set_grad_enabled(phase == 'train'):\n",
        "                        outputs = model(**inputs).logits\n",
        "                        _, preds = torch.max(outputs, 1)\n",
        "                        loss = criterion(outputs, labels)\n",
        "\n",
        "                        # backward + optimize only if in training phase\n",
        "                        if phase == 'train':\n",
        "                            loss.backward()\n",
        "                            optimizer.step()\n",
        "\n",
        "                    # statistics\n",
        "                    running_loss += loss.item() * labels.size(0)\n",
        "                    running_corrects += torch.sum(preds == labels.data)\n",
        "\n",
        "                if phase == 'train':\n",
        "                    scheduler.step()\n",
        "\n",
        "                epoch_loss = running_loss / len(dataloader.dataset)\n",
        "                epoch_acc = running_corrects.double() / len(dataloader.dataset)\n",
        "\n",
        "                print(f'{phase} Loss: {epoch_loss:.4f} Acc: {epoch_acc:.4f}')\n",
        "\n",
        "                # deep copy the model\n",
        "                if phase == 'val' and epoch_acc > best_acc:\n",
        "                    best_acc = epoch_acc\n",
        "                    torch.save(model.state_dict(), best_model_params_path)\n",
        "\n",
        "            print()\n",
        "\n",
        "        time_elapsed = time.time() - since\n",
        "        print(f'Training complete in {time_elapsed // 60:.0f}m {time_elapsed % 60:.0f}s')\n",
        "        print(f'Best val Acc: {best_acc:4f}')\n",
        "\n",
        "        # load best model weights\n",
        "        model.load_state_dict(torch.load(best_model_params_path))\n",
        "    return model"
      ]
    },
    {
      "cell_type": "code",
      "execution_count": null,
      "id": "0fb5d97d-12f0-4fc6-b547-1d856d083f51",
      "metadata": {
        "id": "0fb5d97d-12f0-4fc6-b547-1d856d083f51"
      },
      "outputs": [],
      "source": [
        "for param in model_ft.parameters():\n",
        "    param.requires_grad = False\n",
        "# Unfreeze classifier\n",
        "for p in model.classifier.parameters():\n",
        "    p.requires_grad = True\n",
        "model_ft = train_model(model_ft, criterion, optimizer_ft, exp_lr_scheduler,\n",
        "                       num_epochs=30)"
      ]
    },
    {
      "cell_type": "code",
      "execution_count": null,
      "id": "09c5eb07-1d5a-4e70-badf-267a0d1cb235",
      "metadata": {
        "id": "09c5eb07-1d5a-4e70-badf-267a0d1cb235"
      },
      "outputs": [],
      "source": [
        "model_ft"
      ]
    },
    {
      "cell_type": "code",
      "execution_count": null,
      "id": "e39dde2e-2e3e-426d-9d63-4a4c55871cef",
      "metadata": {
        "id": "e39dde2e-2e3e-426d-9d63-4a4c55871cef"
      },
      "outputs": [],
      "source": [
        "model_ft.classifier"
      ]
    },
    {
      "cell_type": "code",
      "execution_count": null,
      "id": "41dbcd48-6381-424f-89f4-cd73f03f6c6e",
      "metadata": {
        "id": "41dbcd48-6381-424f-89f4-cd73f03f6c6e"
      },
      "outputs": [],
      "source": [
        "for param in model_ft.parameters():\n",
        "    param.requires_grad = False\n",
        "    # print(param)"
      ]
    },
    {
      "cell_type": "code",
      "execution_count": null,
      "id": "c057bb76-7103-4924-8aa6-1cd078f3b494",
      "metadata": {
        "id": "c057bb76-7103-4924-8aa6-1cd078f3b494"
      },
      "outputs": [],
      "source": []
    }
  ],
  "metadata": {
    "kernelspec": {
      "display_name": "Python 3",
      "name": "python3"
    },
    "language_info": {
      "codemirror_mode": {
        "name": "ipython",
        "version": 3
      },
      "file_extension": ".py",
      "mimetype": "text/x-python",
      "name": "python",
      "nbconvert_exporter": "python",
      "pygments_lexer": "ipython3",
      "version": "3.12.6"
    },
    "colab": {
      "provenance": [],
      "gpuType": "T4",
      "include_colab_link": true
    },
    "accelerator": "GPU"
  },
  "nbformat": 4,
  "nbformat_minor": 5
}