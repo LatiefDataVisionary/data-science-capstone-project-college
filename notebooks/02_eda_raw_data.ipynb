{
  "nbformat": 4,
  "nbformat_minor": 0,
  "metadata": {
    "colab": {
      "provenance": [],
      "authorship_tag": "ABX9TyNrIviyENnLwzmVGOz6y3N5",
      "include_colab_link": true
    },
    "kernelspec": {
      "name": "python3",
      "display_name": "Python 3"
    },
    "language_info": {
      "name": "python"
    }
  },
  "cells": [
    {
      "cell_type": "markdown",
      "metadata": {
        "id": "view-in-github",
        "colab_type": "text"
      },
      "source": [
        "<a href=\"https://colab.research.google.com/github/LatiefDataVisionary/data-science-capstone-project-college/blob/main/notebooks/02_eda_raw_data.ipynb\" target=\"_parent\"><img src=\"https://colab.research.google.com/assets/colab-badge.svg\" alt=\"Open In Colab\"/></a>"
      ]
    },
    {
      "cell_type": "markdown",
      "metadata": {
        "id": "0a188906"
      },
      "source": [
        "# **Exploratory Data Analysis of Raw Spotify Reviews**\n",
        "\n",
        "This notebook performs an initial Exploratory Data Analysis (EDA) on the raw dataset of Spotify app reviews. The goal is to understand the basic structure, quality, and characteristics of the data before any preprocessing steps are applied."
      ]
    },
    {
      "cell_type": "markdown",
      "metadata": {
        "id": "32aaa695"
      },
      "source": [
        "## **1. Setup and Library Imports**"
      ]
    },
    {
      "cell_type": "code",
      "metadata": {
        "id": "cf0a1ad9"
      },
      "source": [
        "import pandas as pd\n",
        "import numpy as np\n",
        "import matplotlib.pyplot as plt\n",
        "import seaborn as sns\n",
        "from wordcloud import WordCloud\n",
        "\n",
        "# Set plot style\n",
        "sns.set_style('whitegrid')"
      ],
      "execution_count": 3,
      "outputs": []
    },
    {
      "cell_type": "markdown",
      "metadata": {
        "id": "5b8ef499"
      },
      "source": [
        "## 2. Data Loading and Initial Inspection"
      ]
    },
    {
      "cell_type": "markdown",
      "metadata": {
        "id": "fd6f8abb"
      },
      "source": [
        "Loading the dataset from the specified CSV file into a pandas DataFrame."
      ]
    },
    {
      "cell_type": "code",
      "metadata": {
        "id": "91a27855"
      },
      "source": [
        "# Load the dataset\n",
        "try:\n",
        "    raw_df = pd.read_csv('../data/raw/spotify_reviews_raw.csv')\n",
        "    print(\"Dataset loaded successfully.\")\n",
        "except FileNotFoundError:\n",
        "    print(\"Error: spotify_reviews_raw.csv not found. Please ensure the file is in the correct directory.\")\n",
        "    raw_df = None # Set df to None to avoid errors in subsequent cells"
      ],
      "execution_count": null,
      "outputs": []
    },
    {
      "cell_type": "markdown",
      "metadata": {
        "id": "4fdfddea"
      },
      "source": [
        "Displaying the first 5 rows of the DataFrame to get a glimpse of the data structure and content."
      ]
    },
    {
      "cell_type": "code",
      "metadata": {
        "id": "624993d8"
      },
      "source": [
        "if raw_df is not None:\n",
        "    display(raw_df.head())"
      ],
      "execution_count": null,
      "outputs": []
    },
    {
      "cell_type": "markdown",
      "metadata": {
        "id": "cdd9cca7"
      },
      "source": [
        "Printing concise information about the DataFrame, including the index dtype and column dtypes, non-null values, and memory usage. This helps in understanding the data types and identifying potential missing values."
      ]
    },
    {
      "cell_type": "code",
      "metadata": {
        "id": "17c02fb7"
      },
      "source": [
        "if raw_df is not None:\n",
        "    raw_df.info()"
      ],
      "execution_count": null,
      "outputs": []
    },
    {
      "cell_type": "markdown",
      "metadata": {
        "id": "e7d159f5"
      },
      "source": [
        "Generating descriptive statistics for the numerical columns in the DataFrame. This provides insights into the central tendency, dispersion, and shape of the distribution of numerical data."
      ]
    },
    {
      "cell_type": "code",
      "metadata": {
        "id": "65e9512e"
      },
      "source": [
        "if raw_df is not None:\n",
        "    display(raw_df.describe())"
      ],
      "execution_count": null,
      "outputs": []
    },
    {
      "cell_type": "markdown",
      "metadata": {
        "id": "8ec13bfb"
      },
      "source": [
        "## 3. Data Quality Check"
      ]
    },
    {
      "cell_type": "markdown",
      "metadata": {
        "id": "c89375d4"
      },
      "source": [
        "Checking for missing values in each column and summing them up to get a total count of missing entries per column."
      ]
    },
    {
      "cell_type": "code",
      "metadata": {
        "id": "9cc30501"
      },
      "source": [
        "if raw_df is not None:\n",
        "    missing_values = raw_df.isnull().sum()\n",
        "    print(\"Missing values per column:\")\n",
        "    print(missing_values)"
      ],
      "execution_count": null,
      "outputs": []
    },
    {
      "cell_type": "markdown",
      "metadata": {
        "id": "7f84f4e8"
      },
      "source": [
        "Checking for and counting duplicate rows in the DataFrame. Duplicate rows can skew analysis and should be identified."
      ]
    },
    {
      "cell_type": "code",
      "metadata": {
        "id": "edabb05d"
      },
      "source": [
        "if raw_df is not None:\n",
        "    duplicate_rows = raw_df.duplicated().sum()\n",
        "    print(f\"\\nNumber of duplicate rows: {duplicate_rows}\")"
      ],
      "execution_count": null,
      "outputs": []
    },
    {
      "cell_type": "markdown",
      "metadata": {
        "id": "5732ff17"
      },
      "source": [
        "**Summary of Data Quality:**\n",
        "\n",
        "Based on the checks above:\n",
        "- We can see the number of missing values in each column.\n",
        "- We have identified the total count of duplicate rows.\n",
        "\n",
        "This initial assessment helps us understand the cleanliness of the raw data and highlights areas that may require attention during preprocessing."
      ]
    },
    {
      "cell_type": "markdown",
      "metadata": {
        "id": "a07ef762"
      },
      "source": [
        "## 4. Analysis of Review Ratings (score)"
      ]
    },
    {
      "cell_type": "markdown",
      "metadata": {
        "id": "db0a21f2"
      },
      "source": [
        "Visualizing the distribution of review scores using a count plot to understand the frequency of each rating (1 to 5 stars)."
      ]
    },
    {
      "cell_type": "code",
      "metadata": {
        "id": "a693e1a8"
      },
      "source": [
        "if raw_df is not None:\n",
        "    plt.figure(figsize=(8, 6))\n",
        "    sns.countplot(data=raw_df, x='score', palette='viridis')\n",
        "    plt.title('Distribution of Review Scores')\n",
        "    plt.xlabel('Score')\n",
        "    plt.ylabel('Number of Reviews')\n",
        "    plt.show()"
      ],
      "execution_count": null,
      "outputs": []
    },
    {
      "cell_type": "markdown",
      "metadata": {
        "id": "877a09a2"
      },
      "source": [
        "**Analysis of Score Distribution:**\n",
        "\n",
        "The count plot reveals the distribution of star ratings. We can observe which scores are most frequent. This gives us an initial idea of the overall sentiment of the reviews and the balance of the dataset. For example, if one score significantly outweighs others, the dataset is skewed."
      ]
    },
    {
      "cell_type": "markdown",
      "metadata": {
        "id": "5dd97e0b"
      },
      "source": [
        "## 5. Analysis of Review Text (content)"
      ]
    },
    {
      "cell_type": "markdown",
      "metadata": {
        "id": "c557b5c2"
      },
      "source": [
        "### Subsection 5.1: Review Length Analysis"
      ]
    },
    {
      "cell_type": "markdown",
      "metadata": {
        "id": "d0014af1"
      },
      "source": [
        "Creating new columns for character length and word count of each review in the `content` column."
      ]
    },
    {
      "cell_type": "code",
      "metadata": {
        "id": "ffde927d"
      },
      "source": [
        "if raw_df is not None and 'content' in raw_df.columns:\n",
        "    raw_df['char_length'] = raw_df['content'].astype(str).apply(len)\n",
        "    raw_df['word_count'] = raw_df['content'].astype(str).apply(lambda x: len(x.split()))\n",
        "    print(\"Character length and word count columns added.\")"
      ],
      "execution_count": null,
      "outputs": []
    },
    {
      "cell_type": "markdown",
      "metadata": {
        "id": "85d57105"
      },
      "source": [
        "Generating histograms to visualize the distribution of review lengths based on character count and word count."
      ]
    },
    {
      "cell_type": "code",
      "metadata": {
        "id": "2b8bbc25"
      },
      "source": [
        "if raw_df is not None and 'char_length' in raw_df.columns and 'word_count' in raw_df.columns:\n",
        "    fig, axes = plt.subplots(1, 2, figsize=(14, 6))\n",
        "\n",
        "    sns.histplot(data=raw_df, x='char_length', bins=50, ax=axes[0], kde=True)\n",
        "    axes[0].set_title('Distribution of Review Character Length')\n",
        "    axes[0].set_xlabel('Character Length')\n",
        "    axes[0].set_ylabel('Frequency')\n",
        "\n",
        "    sns.histplot(data=raw_df, x='word_count', bins=50, ax=axes[1], kde=True)\n",
        "    axes[1].set_title('Distribution of Review Word Count')\n",
        "    axes[1].set_xlabel('Word Count')\n",
        "    axes[1].set_ylabel('Frequency')\n",
        "\n",
        "    plt.tight_layout()\n",
        "    plt.show()"
      ],
      "execution_count": null,
      "outputs": []
    },
    {
      "cell_type": "markdown",
      "metadata": {
        "id": "215c72fa"
      },
      "source": [
        "**Analysis of Review Length:**\n",
        "\n",
        "The histograms show the distribution of how long reviews are, both in terms of the number of characters and the number of words. This helps us understand the typical length of reviews and identify any outliers (very short or very long reviews). Most reviews appear to be concentrated within a certain range of words/characters."
      ]
    },
    {
      "cell_type": "markdown",
      "metadata": {
        "id": "7f1d0475"
      },
      "source": [
        "### Subsection 5.2: Word Cloud of Raw Text"
      ]
    },
    {
      "cell_type": "markdown",
      "metadata": {
        "id": "61fbe68e"
      },
      "source": [
        "Generating a Word Cloud from the raw review text to visually represent the most frequent words. Note that this is based on unprocessed text and will include stopwords and other noise."
      ]
    },
    {
      "cell_type": "code",
      "metadata": {
        "id": "330b45b0"
      },
      "source": [
        "if raw_df is not None and 'content' in raw_df.columns:\n",
        "    # Combine all reviews into a single string\n",
        "    all_reviews = \" \".join(review for review in raw_df['content'].astype(str))\n",
        "\n",
        "    # Generate word cloud\n",
        "    wordcloud = WordCloud(width=800, height=400, background_color='white').generate(all_reviews)\n",
        "\n",
        "    # Display the word cloud\n",
        "    plt.figure(figsize=(10, 7))\n",
        "    plt.imshow(wordcloud, interpolation='bilinear')\n",
        "    plt.axis(\"off\")\n",
        "    plt.title('Word Cloud of Raw Review Text')\n",
        "    plt.show()"
      ],
      "execution_count": null,
      "outputs": []
    },
    {
      "cell_type": "markdown",
      "metadata": {
        "id": "6a466de4"
      },
      "source": [
        "**Analysis of Word Cloud:**\n",
        "\n",
        "The word cloud provides a quick visual overview of the most frequently occurring words in the raw review text. As expected with unprocessed text, it contains many common words (stopwords) and potential noise. However, it gives a raw first impression of the dominant themes and keywords present in the reviews before any cleaning or preprocessing."
      ]
    },
    {
      "cell_type": "markdown",
      "metadata": {
        "id": "ac1b1d0c"
      },
      "source": [
        "## 6. Temporal Analysis (Review Timestamps)"
      ]
    },
    {
      "cell_type": "markdown",
      "metadata": {
        "id": "74858484"
      },
      "source": [
        "Converting the `at` column to a datetime object to enable time-based analysis. Errors in conversion will be coerced to `NaT` (Not a Time)."
      ]
    },
    {
      "cell_type": "code",
      "metadata": {
        "id": "0feee6e6"
      },
      "source": [
        "if raw_df is not None and 'at' in raw_df.columns:\n",
        "    raw_df['at'] = pd.to_datetime(raw_df['at'], errors='coerce')\n",
        "    print(\" 'at' column converted to datetime objects.\")\n",
        "    # Drop rows where datetime conversion failed\n",
        "    raw_df.dropna(subset=['at'], inplace=True)\n",
        "    print(f\"Dropped rows with invalid datetime values. Remaining rows: {len(raw_df)}\")"
      ],
      "execution_count": null,
      "outputs": []
    },
    {
      "cell_type": "markdown",
      "metadata": {
        "id": "0e1839b5"
      },
      "source": [
        "Plotting the number of reviews submitted over time, grouped by month, to identify any trends or patterns in review activity."
      ]
    },
    {
      "cell_type": "code",
      "metadata": {
        "id": "b9b6337a"
      },
      "source": [
        "if raw_df is not None and 'at' in raw_df.columns:\n",
        "    # Extract month and year\n",
        "    raw_df['review_month'] = raw_df['at'].dt.to_period('M')\n",
        "\n",
        "    # Group by month and count reviews\n",
        "    monthly_reviews = raw_df.groupby('review_month').size()\n",
        "\n",
        "    # Plot the time series\n",
        "    plt.figure(figsize=(12, 6))\n",
        "    monthly_reviews.plot()\n",
        "    plt.title('Number of Reviews Over Time (Monthly)')\n",
        "    plt.xlabel('Date')\n",
        "    plt.ylabel('Number of Reviews')\n",
        "    plt.xticks(rotation=45)\n",
        "    plt.tight_layout()\n",
        "    plt.show()"
      ],
      "execution_count": null,
      "outputs": []
    },
    {
      "cell_type": "markdown",
      "metadata": {
        "id": "72edabe6"
      },
      "source": [
        "**Analysis of Temporal Trends:**\n",
        "\n",
        "The time series plot shows how the number of reviews has changed over the months. We can observe trends such as periods of increased or decreased review activity. Spikes in reviews might correlate with significant events like app updates, marketing campaigns, or service outages. A general upward or downward trend could indicate changes in user engagement over time."
      ]
    },
    {
      "cell_type": "markdown",
      "metadata": {
        "id": "9a8ea2bd"
      },
      "source": [
        "## 7. Conclusion & Next Steps"
      ]
    },
    {
      "cell_type": "markdown",
      "metadata": {
        "id": "df37b90f"
      },
      "source": [
        "**Conclusion:**\n",
        "\n",
        "This initial EDA on the raw Spotify reviews dataset has provided valuable insights into its structure, quality, and content. We have examined:\n",
        "- The dataset's basic information and structure.\n",
        "- The presence of missing values and duplicate rows.\n",
        "- The distribution of review scores, indicating the overall sentiment.\n",
        "- The characteristics of the review text, including length and the most frequent raw words.\n",
        "- The temporal trends in review submission.\n",
        "\n",
        "The raw text data, as seen in the word cloud, is noisy and requires significant cleaning and preprocessing before it can be effectively used for tasks like sentiment analysis or topic modeling.\n",
        "\n",
        "**Next Steps:**\n",
        "\n",
        "The logical next step in this project, which will be covered in the notebook `03_data_preprocessing_and_cleaning.ipynb`, is to clean and preprocess the raw text data. This will involve steps such as:\n",
        "- Handling missing values and duplicate rows (if not already done).\n",
        "- Text cleaning (e.g., removing punctuation, special characters, numbers).\n",
        "- Lowercasing the text.\n",
        "- Tokenization.\n",
        "- Removing stopwords.\n",
        "- Stemming or lemmatization.\n",
        "- Handling bilingual text (if necessary).\n",
        "\n",
        "These preprocessing steps are crucial to transform the raw review text into a format suitable for further analysis and machine learning models."
      ]
    },
    {
      "cell_type": "code",
      "source": [
        "data1 = 'https://raw.githubusercontent.com/LatiefDataVisionary/data-science-capstone-project-college/refs/heads/main/data/raw/spotify_reviews_en_au_1.csv'\n",
        "data2 = 'https://raw.githubusercontent.com/LatiefDataVisionary/data-science-capstone-project-college/refs/heads/main/data/raw/spotify_reviews_en_au_2.csv'\n",
        "data3 = 'https://raw.githubusercontent.com/LatiefDataVisionary/data-science-capstone-project-college/refs/heads/main/data/raw/spotify_reviews_en_uk_1.csv'\n",
        "data4 = 'https://raw.githubusercontent.com/LatiefDataVisionary/data-science-capstone-project-college/refs/heads/main/data/raw/spotify_reviews_en_uk_2.csv'\n",
        "data5 = 'https://raw.githubusercontent.com/LatiefDataVisionary/data-science-capstone-project-college/refs/heads/main/data/raw/spotify_reviews_en_us_1.csv'\n",
        "data6 = 'https://raw.githubusercontent.com/LatiefDataVisionary/data-science-capstone-project-college/refs/heads/main/data/raw/spotify_reviews_en_us_2.csv'"
      ],
      "metadata": {
        "id": "WCrBJswMc4o8"
      },
      "execution_count": 2,
      "outputs": []
    }
  ]
}