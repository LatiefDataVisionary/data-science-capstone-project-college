{
  "nbformat": 4,
  "nbformat_minor": 0,
  "metadata": {
    "colab": {
      "provenance": [],
      "toc_visible": true,
      "authorship_tag": "ABX9TyMg+eJRJYEfT+KXaErpvkaG",
      "include_colab_link": true
    },
    "kernelspec": {
      "name": "python3",
      "display_name": "Python 3"
    },
    "language_info": {
      "name": "python"
    },
    "widgets": {
      "application/vnd.jupyter.widget-state+json": {
        "0bb4ef10532c439db61453e739f4c1ea": {
          "model_module": "@jupyter-widgets/controls",
          "model_name": "HBoxModel",
          "model_module_version": "1.5.0",
          "state": {
            "_dom_classes": [],
            "_model_module": "@jupyter-widgets/controls",
            "_model_module_version": "1.5.0",
            "_model_name": "HBoxModel",
            "_view_count": null,
            "_view_module": "@jupyter-widgets/controls",
            "_view_module_version": "1.5.0",
            "_view_name": "HBoxView",
            "box_style": "",
            "children": [
              "IPY_MODEL_5cdd588ef2f64a8aa4db5a83958170e6",
              "IPY_MODEL_244566c21d2547398a192f1b8347e27d",
              "IPY_MODEL_80536f14af3c491599415b563f0f6e71"
            ],
            "layout": "IPY_MODEL_3dfe372ddb8f45f1b9f08484f00e6c84"
          }
        },
        "5cdd588ef2f64a8aa4db5a83958170e6": {
          "model_module": "@jupyter-widgets/controls",
          "model_name": "HTMLModel",
          "model_module_version": "1.5.0",
          "state": {
            "_dom_classes": [],
            "_model_module": "@jupyter-widgets/controls",
            "_model_module_version": "1.5.0",
            "_model_name": "HTMLModel",
            "_view_count": null,
            "_view_module": "@jupyter-widgets/controls",
            "_view_module_version": "1.5.0",
            "_view_name": "HTMLView",
            "description": "",
            "description_tooltip": null,
            "layout": "IPY_MODEL_44030ee1016946e9b786a089071cd69d",
            "placeholder": "​",
            "style": "IPY_MODEL_731b9dbb7d384c77aa1d7770df153ed4",
            "value": " 41%"
          }
        },
        "244566c21d2547398a192f1b8347e27d": {
          "model_module": "@jupyter-widgets/controls",
          "model_name": "FloatProgressModel",
          "model_module_version": "1.5.0",
          "state": {
            "_dom_classes": [],
            "_model_module": "@jupyter-widgets/controls",
            "_model_module_version": "1.5.0",
            "_model_name": "FloatProgressModel",
            "_view_count": null,
            "_view_module": "@jupyter-widgets/controls",
            "_view_module_version": "1.5.0",
            "_view_name": "ProgressView",
            "bar_style": "",
            "description": "",
            "description_tooltip": null,
            "layout": "IPY_MODEL_1319c40de0884380bc777fca77f6bfe7",
            "max": 136324,
            "min": 0,
            "orientation": "horizontal",
            "style": "IPY_MODEL_3999c98dbadc4340b6a66712b3a2a33a",
            "value": 55239
          }
        },
        "80536f14af3c491599415b563f0f6e71": {
          "model_module": "@jupyter-widgets/controls",
          "model_name": "HTMLModel",
          "model_module_version": "1.5.0",
          "state": {
            "_dom_classes": [],
            "_model_module": "@jupyter-widgets/controls",
            "_model_module_version": "1.5.0",
            "_model_name": "HTMLModel",
            "_view_count": null,
            "_view_module": "@jupyter-widgets/controls",
            "_view_module_version": "1.5.0",
            "_view_name": "HTMLView",
            "description": "",
            "description_tooltip": null,
            "layout": "IPY_MODEL_ff13901432cd48c08250dd3f045797c4",
            "placeholder": "​",
            "style": "IPY_MODEL_4b2a0fc050874eda95ce3412928ec609",
            "value": " 55239/136324 [05:36&lt;04:38, 291.27it/s]"
          }
        },
        "3dfe372ddb8f45f1b9f08484f00e6c84": {
          "model_module": "@jupyter-widgets/base",
          "model_name": "LayoutModel",
          "model_module_version": "1.2.0",
          "state": {
            "_model_module": "@jupyter-widgets/base",
            "_model_module_version": "1.2.0",
            "_model_name": "LayoutModel",
            "_view_count": null,
            "_view_module": "@jupyter-widgets/base",
            "_view_module_version": "1.2.0",
            "_view_name": "LayoutView",
            "align_content": null,
            "align_items": null,
            "align_self": null,
            "border": null,
            "bottom": null,
            "display": null,
            "flex": null,
            "flex_flow": null,
            "grid_area": null,
            "grid_auto_columns": null,
            "grid_auto_flow": null,
            "grid_auto_rows": null,
            "grid_column": null,
            "grid_gap": null,
            "grid_row": null,
            "grid_template_areas": null,
            "grid_template_columns": null,
            "grid_template_rows": null,
            "height": null,
            "justify_content": null,
            "justify_items": null,
            "left": null,
            "margin": null,
            "max_height": null,
            "max_width": null,
            "min_height": null,
            "min_width": null,
            "object_fit": null,
            "object_position": null,
            "order": null,
            "overflow": null,
            "overflow_x": null,
            "overflow_y": null,
            "padding": null,
            "right": null,
            "top": null,
            "visibility": null,
            "width": null
          }
        },
        "44030ee1016946e9b786a089071cd69d": {
          "model_module": "@jupyter-widgets/base",
          "model_name": "LayoutModel",
          "model_module_version": "1.2.0",
          "state": {
            "_model_module": "@jupyter-widgets/base",
            "_model_module_version": "1.2.0",
            "_model_name": "LayoutModel",
            "_view_count": null,
            "_view_module": "@jupyter-widgets/base",
            "_view_module_version": "1.2.0",
            "_view_name": "LayoutView",
            "align_content": null,
            "align_items": null,
            "align_self": null,
            "border": null,
            "bottom": null,
            "display": null,
            "flex": null,
            "flex_flow": null,
            "grid_area": null,
            "grid_auto_columns": null,
            "grid_auto_flow": null,
            "grid_auto_rows": null,
            "grid_column": null,
            "grid_gap": null,
            "grid_row": null,
            "grid_template_areas": null,
            "grid_template_columns": null,
            "grid_template_rows": null,
            "height": null,
            "justify_content": null,
            "justify_items": null,
            "left": null,
            "margin": null,
            "max_height": null,
            "max_width": null,
            "min_height": null,
            "min_width": null,
            "object_fit": null,
            "object_position": null,
            "order": null,
            "overflow": null,
            "overflow_x": null,
            "overflow_y": null,
            "padding": null,
            "right": null,
            "top": null,
            "visibility": null,
            "width": null
          }
        },
        "731b9dbb7d384c77aa1d7770df153ed4": {
          "model_module": "@jupyter-widgets/controls",
          "model_name": "DescriptionStyleModel",
          "model_module_version": "1.5.0",
          "state": {
            "_model_module": "@jupyter-widgets/controls",
            "_model_module_version": "1.5.0",
            "_model_name": "DescriptionStyleModel",
            "_view_count": null,
            "_view_module": "@jupyter-widgets/base",
            "_view_module_version": "1.2.0",
            "_view_name": "StyleView",
            "description_width": ""
          }
        },
        "1319c40de0884380bc777fca77f6bfe7": {
          "model_module": "@jupyter-widgets/base",
          "model_name": "LayoutModel",
          "model_module_version": "1.2.0",
          "state": {
            "_model_module": "@jupyter-widgets/base",
            "_model_module_version": "1.2.0",
            "_model_name": "LayoutModel",
            "_view_count": null,
            "_view_module": "@jupyter-widgets/base",
            "_view_module_version": "1.2.0",
            "_view_name": "LayoutView",
            "align_content": null,
            "align_items": null,
            "align_self": null,
            "border": null,
            "bottom": null,
            "display": null,
            "flex": null,
            "flex_flow": null,
            "grid_area": null,
            "grid_auto_columns": null,
            "grid_auto_flow": null,
            "grid_auto_rows": null,
            "grid_column": null,
            "grid_gap": null,
            "grid_row": null,
            "grid_template_areas": null,
            "grid_template_columns": null,
            "grid_template_rows": null,
            "height": null,
            "justify_content": null,
            "justify_items": null,
            "left": null,
            "margin": null,
            "max_height": null,
            "max_width": null,
            "min_height": null,
            "min_width": null,
            "object_fit": null,
            "object_position": null,
            "order": null,
            "overflow": null,
            "overflow_x": null,
            "overflow_y": null,
            "padding": null,
            "right": null,
            "top": null,
            "visibility": null,
            "width": null
          }
        },
        "3999c98dbadc4340b6a66712b3a2a33a": {
          "model_module": "@jupyter-widgets/controls",
          "model_name": "ProgressStyleModel",
          "model_module_version": "1.5.0",
          "state": {
            "_model_module": "@jupyter-widgets/controls",
            "_model_module_version": "1.5.0",
            "_model_name": "ProgressStyleModel",
            "_view_count": null,
            "_view_module": "@jupyter-widgets/base",
            "_view_module_version": "1.2.0",
            "_view_name": "StyleView",
            "bar_color": null,
            "description_width": ""
          }
        },
        "ff13901432cd48c08250dd3f045797c4": {
          "model_module": "@jupyter-widgets/base",
          "model_name": "LayoutModel",
          "model_module_version": "1.2.0",
          "state": {
            "_model_module": "@jupyter-widgets/base",
            "_model_module_version": "1.2.0",
            "_model_name": "LayoutModel",
            "_view_count": null,
            "_view_module": "@jupyter-widgets/base",
            "_view_module_version": "1.2.0",
            "_view_name": "LayoutView",
            "align_content": null,
            "align_items": null,
            "align_self": null,
            "border": null,
            "bottom": null,
            "display": null,
            "flex": null,
            "flex_flow": null,
            "grid_area": null,
            "grid_auto_columns": null,
            "grid_auto_flow": null,
            "grid_auto_rows": null,
            "grid_column": null,
            "grid_gap": null,
            "grid_row": null,
            "grid_template_areas": null,
            "grid_template_columns": null,
            "grid_template_rows": null,
            "height": null,
            "justify_content": null,
            "justify_items": null,
            "left": null,
            "margin": null,
            "max_height": null,
            "max_width": null,
            "min_height": null,
            "min_width": null,
            "object_fit": null,
            "object_position": null,
            "order": null,
            "overflow": null,
            "overflow_x": null,
            "overflow_y": null,
            "padding": null,
            "right": null,
            "top": null,
            "visibility": null,
            "width": null
          }
        },
        "4b2a0fc050874eda95ce3412928ec609": {
          "model_module": "@jupyter-widgets/controls",
          "model_name": "DescriptionStyleModel",
          "model_module_version": "1.5.0",
          "state": {
            "_model_module": "@jupyter-widgets/controls",
            "_model_module_version": "1.5.0",
            "_model_name": "DescriptionStyleModel",
            "_view_count": null,
            "_view_module": "@jupyter-widgets/base",
            "_view_module_version": "1.2.0",
            "_view_name": "StyleView",
            "description_width": ""
          }
        }
      }
    }
  },
  "cells": [
    {
      "cell_type": "markdown",
      "metadata": {
        "id": "view-in-github",
        "colab_type": "text"
      },
      "source": [
        "<a href=\"https://colab.research.google.com/github/LatiefDataVisionary/data-science-capstone-project-college/blob/main/notebooks/04_programmatic_labeling_bilingual.ipynb\" target=\"_parent\"><img src=\"https://colab.research.google.com/assets/colab-badge.svg\" alt=\"Open In Colab\"/></a>"
      ]
    },
    {
      "cell_type": "markdown",
      "metadata": {
        "id": "1efa4a5d"
      },
      "source": [
        "# 04 Programmatic Sentiment Labeling (Bilingual)\n",
        "\n",
        "This notebook performs programmatic sentiment labeling on a clean, unlabeled, bilingual (English & Indonesian) dataset. It employs a hybrid, language-specific approach:\n",
        "\n",
        "- For English reviews, it utilizes the fast, lexicon-based VADER tool.\n",
        "- For Indonesian reviews, it leverages a powerful, pre-trained Transformer-based model fine-tuned for Indonesian sentiment.\n",
        "\n",
        "The input is the cleaned dataset, and the output is a single, consistently labeled dataset."
      ]
    },
    {
      "cell_type": "markdown",
      "metadata": {
        "id": "8ebc870c"
      },
      "source": [
        "## 1. Setup and Data Loading"
      ]
    },
    {
      "cell_type": "code",
      "metadata": {
        "colab": {
          "base_uri": "https://localhost:8080/"
        },
        "id": "021490ff",
        "outputId": "4e82a3e5-b939-40d6-dfb1-5db42b46cd7e"
      },
      "source": [
        "# Install necessary libraries\n",
        "!pip install langdetect transformers[torch] tqdm\n",
        "!pip install accelerate -qqq # Required by some Hugging Face models"
      ],
      "execution_count": 51,
      "outputs": [
        {
          "output_type": "stream",
          "name": "stdout",
          "text": [
            "Requirement already satisfied: langdetect in /usr/local/lib/python3.12/dist-packages (1.0.9)\n",
            "Requirement already satisfied: tqdm in /usr/local/lib/python3.12/dist-packages (4.67.1)\n",
            "Requirement already satisfied: transformers[torch] in /usr/local/lib/python3.12/dist-packages (4.56.1)\n",
            "Requirement already satisfied: six in /usr/local/lib/python3.12/dist-packages (from langdetect) (1.17.0)\n",
            "Requirement already satisfied: filelock in /usr/local/lib/python3.12/dist-packages (from transformers[torch]) (3.19.1)\n",
            "Requirement already satisfied: huggingface-hub<1.0,>=0.34.0 in /usr/local/lib/python3.12/dist-packages (from transformers[torch]) (0.35.0)\n",
            "Requirement already satisfied: numpy>=1.17 in /usr/local/lib/python3.12/dist-packages (from transformers[torch]) (2.0.2)\n",
            "Requirement already satisfied: packaging>=20.0 in /usr/local/lib/python3.12/dist-packages (from transformers[torch]) (25.0)\n",
            "Requirement already satisfied: pyyaml>=5.1 in /usr/local/lib/python3.12/dist-packages (from transformers[torch]) (6.0.2)\n",
            "Requirement already satisfied: regex!=2019.12.17 in /usr/local/lib/python3.12/dist-packages (from transformers[torch]) (2024.11.6)\n",
            "Requirement already satisfied: requests in /usr/local/lib/python3.12/dist-packages (from transformers[torch]) (2.32.4)\n",
            "Requirement already satisfied: tokenizers<=0.23.0,>=0.22.0 in /usr/local/lib/python3.12/dist-packages (from transformers[torch]) (0.22.0)\n",
            "Requirement already satisfied: safetensors>=0.4.3 in /usr/local/lib/python3.12/dist-packages (from transformers[torch]) (0.6.2)\n",
            "Requirement already satisfied: torch>=2.2 in /usr/local/lib/python3.12/dist-packages (from transformers[torch]) (2.8.0+cu126)\n",
            "Requirement already satisfied: accelerate>=0.26.0 in /usr/local/lib/python3.12/dist-packages (from transformers[torch]) (1.10.1)\n",
            "Requirement already satisfied: psutil in /usr/local/lib/python3.12/dist-packages (from accelerate>=0.26.0->transformers[torch]) (5.9.5)\n",
            "Requirement already satisfied: fsspec>=2023.5.0 in /usr/local/lib/python3.12/dist-packages (from huggingface-hub<1.0,>=0.34.0->transformers[torch]) (2025.3.0)\n",
            "Requirement already satisfied: typing-extensions>=3.7.4.3 in /usr/local/lib/python3.12/dist-packages (from huggingface-hub<1.0,>=0.34.0->transformers[torch]) (4.15.0)\n",
            "Requirement already satisfied: hf-xet<2.0.0,>=1.1.3 in /usr/local/lib/python3.12/dist-packages (from huggingface-hub<1.0,>=0.34.0->transformers[torch]) (1.1.10)\n",
            "Requirement already satisfied: setuptools in /usr/local/lib/python3.12/dist-packages (from torch>=2.2->transformers[torch]) (75.2.0)\n",
            "Requirement already satisfied: sympy>=1.13.3 in /usr/local/lib/python3.12/dist-packages (from torch>=2.2->transformers[torch]) (1.13.3)\n",
            "Requirement already satisfied: networkx in /usr/local/lib/python3.12/dist-packages (from torch>=2.2->transformers[torch]) (3.5)\n",
            "Requirement already satisfied: jinja2 in /usr/local/lib/python3.12/dist-packages (from torch>=2.2->transformers[torch]) (3.1.6)\n",
            "Requirement already satisfied: nvidia-cuda-nvrtc-cu12==12.6.77 in /usr/local/lib/python3.12/dist-packages (from torch>=2.2->transformers[torch]) (12.6.77)\n",
            "Requirement already satisfied: nvidia-cuda-runtime-cu12==12.6.77 in /usr/local/lib/python3.12/dist-packages (from torch>=2.2->transformers[torch]) (12.6.77)\n",
            "Requirement already satisfied: nvidia-cuda-cupti-cu12==12.6.80 in /usr/local/lib/python3.12/dist-packages (from torch>=2.2->transformers[torch]) (12.6.80)\n",
            "Requirement already satisfied: nvidia-cudnn-cu12==9.10.2.21 in /usr/local/lib/python3.12/dist-packages (from torch>=2.2->transformers[torch]) (9.10.2.21)\n",
            "Requirement already satisfied: nvidia-cublas-cu12==12.6.4.1 in /usr/local/lib/python3.12/dist-packages (from torch>=2.2->transformers[torch]) (12.6.4.1)\n",
            "Requirement already satisfied: nvidia-cufft-cu12==11.3.0.4 in /usr/local/lib/python3.12/dist-packages (from torch>=2.2->transformers[torch]) (11.3.0.4)\n",
            "Requirement already satisfied: nvidia-curand-cu12==10.3.7.77 in /usr/local/lib/python3.12/dist-packages (from torch>=2.2->transformers[torch]) (10.3.7.77)\n",
            "Requirement already satisfied: nvidia-cusolver-cu12==11.7.1.2 in /usr/local/lib/python3.12/dist-packages (from torch>=2.2->transformers[torch]) (11.7.1.2)\n",
            "Requirement already satisfied: nvidia-cusparse-cu12==12.5.4.2 in /usr/local/lib/python3.12/dist-packages (from torch>=2.2->transformers[torch]) (12.5.4.2)\n",
            "Requirement already satisfied: nvidia-cusparselt-cu12==0.7.1 in /usr/local/lib/python3.12/dist-packages (from torch>=2.2->transformers[torch]) (0.7.1)\n",
            "Requirement already satisfied: nvidia-nccl-cu12==2.27.3 in /usr/local/lib/python3.12/dist-packages (from torch>=2.2->transformers[torch]) (2.27.3)\n",
            "Requirement already satisfied: nvidia-nvtx-cu12==12.6.77 in /usr/local/lib/python3.12/dist-packages (from torch>=2.2->transformers[torch]) (12.6.77)\n",
            "Requirement already satisfied: nvidia-nvjitlink-cu12==12.6.85 in /usr/local/lib/python3.12/dist-packages (from torch>=2.2->transformers[torch]) (12.6.85)\n",
            "Requirement already satisfied: nvidia-cufile-cu12==1.11.1.6 in /usr/local/lib/python3.12/dist-packages (from torch>=2.2->transformers[torch]) (1.11.1.6)\n",
            "Requirement already satisfied: triton==3.4.0 in /usr/local/lib/python3.12/dist-packages (from torch>=2.2->transformers[torch]) (3.4.0)\n",
            "Requirement already satisfied: charset_normalizer<4,>=2 in /usr/local/lib/python3.12/dist-packages (from requests->transformers[torch]) (3.4.3)\n",
            "Requirement already satisfied: idna<4,>=2.5 in /usr/local/lib/python3.12/dist-packages (from requests->transformers[torch]) (3.10)\n",
            "Requirement already satisfied: urllib3<3,>=1.21.1 in /usr/local/lib/python3.12/dist-packages (from requests->transformers[torch]) (2.5.0)\n",
            "Requirement already satisfied: certifi>=2017.4.17 in /usr/local/lib/python3.12/dist-packages (from requests->transformers[torch]) (2025.8.3)\n",
            "Requirement already satisfied: mpmath<1.4,>=1.1.0 in /usr/local/lib/python3.12/dist-packages (from sympy>=1.13.3->torch>=2.2->transformers[torch]) (1.3.0)\n",
            "Requirement already satisfied: MarkupSafe>=2.0 in /usr/local/lib/python3.12/dist-packages (from jinja2->torch>=2.2->transformers[torch]) (3.0.2)\n"
          ]
        }
      ]
    },
    {
      "cell_type": "code",
      "metadata": {
        "id": "d1833787"
      },
      "source": [
        "import pandas as pd\n",
        "import nltk\n",
        "from nltk.sentiment.vader import SentimentIntensityAnalyzer\n",
        "from transformers import AutoTokenizer, AutoModelForSequenceClassification\n",
        "from transformers.pipelines import pipeline\n",
        "from transformers import pipeline\n",
        "import torch\n",
        "from tqdm.auto import tqdm\n",
        "from langdetect import detect, DetectorFactory\n",
        "from huggingface_hub import login\n",
        "from google.colab import userdata\n",
        "import os\n",
        "\n",
        "# Ensure consistent language detection results\n",
        "DetectorFactory.seed = 0\n",
        "\n",
        "tqdm.pandas()"
      ],
      "execution_count": 52,
      "outputs": []
    },
    {
      "cell_type": "code",
      "metadata": {
        "id": "31fb2ea3"
      },
      "source": [
        "# Download the VADER lexicon\n",
        "try:\n",
        "    nltk.data.find('sentiment/vader_lexicon.zip')\n",
        "except Exception: # Catching generic Exception as DownloadError might not be directly accessible\n",
        "    nltk.download('vader_lexicon')"
      ],
      "execution_count": 53,
      "outputs": []
    },
    {
      "cell_type": "code",
      "execution_count": 54,
      "metadata": {
        "id": "YzzxiQrjN298"
      },
      "outputs": [],
      "source": [
        "reviews_cleaned_en = 'https://raw.githubusercontent.com/LatiefDataVisionary/data-science-capstone-project-college/refs/heads/main/data/processed/reviews_cleaned_en.csv'\n",
        "reviews_cleaned_id = 'https://raw.githubusercontent.com/LatiefDataVisionary/data-science-capstone-project-college/refs/heads/main/data/processed/reviews_cleaned_id.csv'"
      ]
    },
    {
      "cell_type": "code",
      "metadata": {
        "colab": {
          "base_uri": "https://localhost:8080/",
          "height": 294
        },
        "id": "1994c3eb",
        "outputId": "912bc7b9-23cd-413a-cc49-96d5e21f2921"
      },
      "source": [
        "# Load the cleaned dataset\n",
        "# Note: Assuming a single combined CSV after cleaning, based on the prompt.\n",
        "# If separate files exist, they should be loaded and combined here.\n",
        "# The prompt mentions '../data/processed/reviews_cleaned.csv' as the input.\n",
        "# However, the user's initial cells define reviews_cleaned_en and reviews_cleaned_id URLs.\n",
        "# For this notebook, I will assume the input is a single combined file as per the prompt.\n",
        "# If the user intended to use the separate files, this cell would need modification.\n",
        "try:\n",
        "    df = pd.read_csv('../data/processed/reviews_cleaned.csv')\n",
        "except FileNotFoundError:\n",
        "    # Fallback: If the combined file isn't found, load from URLs and combine\n",
        "    print(\"reviews_cleaned.csv not found. Attempting to load from provided URLs.\")\n",
        "    reviews_cleaned_en = 'https://raw.githubusercontent.com/LatiefDataVisionary/data-science-capstone-project-college/refs/heads/main/data/processed/reviews_cleaned_en.csv'\n",
        "    reviews_cleaned_id = 'https://raw.githubusercontent.com/LatiefDataVisionary/data-science-capstone-project-college/refs/heads/main/data/processed/reviews_cleaned_id.csv'\n",
        "\n",
        "    df_en = pd.read_csv(reviews_cleaned_en)\n",
        "    df_id = pd.read_csv(reviews_cleaned_id)\n",
        "\n",
        "    # Assuming the dataframes have a 'review_text' column and similar structure\n",
        "    df = pd.concat([df_en, df_id], ignore_index=True)\n",
        "    print(\"Data loaded and combined from URLs.\")\n",
        "\n",
        "display(df.head())"
      ],
      "execution_count": 55,
      "outputs": [
        {
          "output_type": "stream",
          "name": "stdout",
          "text": [
            "reviews_cleaned.csv not found. Attempting to load from provided URLs.\n",
            "Data loaded and combined from URLs.\n"
          ]
        },
        {
          "output_type": "display_data",
          "data": {
            "text/plain": [
              "                                             content  score  thumbsUpCount  \\\n",
              "0  they fixed it, I was just really pissy yesterd...      5              1   \n",
              "1  Offline doesnt work, support doesnt help, just...      1              0   \n",
              "2  Super annoying ad experience! It feels like th...      1              5   \n",
              "3                                                  👍      5              1   \n",
              "4                          super song for everything      5              0   \n",
              "\n",
              "                                     cleaned_content  \n",
              "0  fixed really pissy yesterday cause spent awhil...  \n",
              "1  offline doesnt work support doesnt help anothe...  \n",
              "2  super annoying ad experience feels like app de...  \n",
              "3                                                NaN  \n",
              "4                              super song everything  "
            ],
            "text/html": [
              "\n",
              "  <div id=\"df-9d4465e9-06d5-4bba-a08f-d7b55b792c39\" class=\"colab-df-container\">\n",
              "    <div>\n",
              "<style scoped>\n",
              "    .dataframe tbody tr th:only-of-type {\n",
              "        vertical-align: middle;\n",
              "    }\n",
              "\n",
              "    .dataframe tbody tr th {\n",
              "        vertical-align: top;\n",
              "    }\n",
              "\n",
              "    .dataframe thead th {\n",
              "        text-align: right;\n",
              "    }\n",
              "</style>\n",
              "<table border=\"1\" class=\"dataframe\">\n",
              "  <thead>\n",
              "    <tr style=\"text-align: right;\">\n",
              "      <th></th>\n",
              "      <th>content</th>\n",
              "      <th>score</th>\n",
              "      <th>thumbsUpCount</th>\n",
              "      <th>cleaned_content</th>\n",
              "    </tr>\n",
              "  </thead>\n",
              "  <tbody>\n",
              "    <tr>\n",
              "      <th>0</th>\n",
              "      <td>they fixed it, I was just really pissy yesterd...</td>\n",
              "      <td>5</td>\n",
              "      <td>1</td>\n",
              "      <td>fixed really pissy yesterday cause spent awhil...</td>\n",
              "    </tr>\n",
              "    <tr>\n",
              "      <th>1</th>\n",
              "      <td>Offline doesnt work, support doesnt help, just...</td>\n",
              "      <td>1</td>\n",
              "      <td>0</td>\n",
              "      <td>offline doesnt work support doesnt help anothe...</td>\n",
              "    </tr>\n",
              "    <tr>\n",
              "      <th>2</th>\n",
              "      <td>Super annoying ad experience! It feels like th...</td>\n",
              "      <td>1</td>\n",
              "      <td>5</td>\n",
              "      <td>super annoying ad experience feels like app de...</td>\n",
              "    </tr>\n",
              "    <tr>\n",
              "      <th>3</th>\n",
              "      <td>👍</td>\n",
              "      <td>5</td>\n",
              "      <td>1</td>\n",
              "      <td>NaN</td>\n",
              "    </tr>\n",
              "    <tr>\n",
              "      <th>4</th>\n",
              "      <td>super song for everything</td>\n",
              "      <td>5</td>\n",
              "      <td>0</td>\n",
              "      <td>super song everything</td>\n",
              "    </tr>\n",
              "  </tbody>\n",
              "</table>\n",
              "</div>\n",
              "    <div class=\"colab-df-buttons\">\n",
              "\n",
              "  <div class=\"colab-df-container\">\n",
              "    <button class=\"colab-df-convert\" onclick=\"convertToInteractive('df-9d4465e9-06d5-4bba-a08f-d7b55b792c39')\"\n",
              "            title=\"Convert this dataframe to an interactive table.\"\n",
              "            style=\"display:none;\">\n",
              "\n",
              "  <svg xmlns=\"http://www.w3.org/2000/svg\" height=\"24px\" viewBox=\"0 -960 960 960\">\n",
              "    <path d=\"M120-120v-720h720v720H120Zm60-500h600v-160H180v160Zm220 220h160v-160H400v160Zm0 220h160v-160H400v160ZM180-400h160v-160H180v160Zm440 0h160v-160H620v160ZM180-180h160v-160H180v160Zm440 0h160v-160H620v160Z\"/>\n",
              "  </svg>\n",
              "    </button>\n",
              "\n",
              "  <style>\n",
              "    .colab-df-container {\n",
              "      display:flex;\n",
              "      gap: 12px;\n",
              "    }\n",
              "\n",
              "    .colab-df-convert {\n",
              "      background-color: #E8F0FE;\n",
              "      border: none;\n",
              "      border-radius: 50%;\n",
              "      cursor: pointer;\n",
              "      display: none;\n",
              "      fill: #1967D2;\n",
              "      height: 32px;\n",
              "      padding: 0 0 0 0;\n",
              "      width: 32px;\n",
              "    }\n",
              "\n",
              "    .colab-df-convert:hover {\n",
              "      background-color: #E2EBFA;\n",
              "      box-shadow: 0px 1px 2px rgba(60, 64, 67, 0.3), 0px 1px 3px 1px rgba(60, 64, 67, 0.15);\n",
              "      fill: #174EA6;\n",
              "    }\n",
              "\n",
              "    .colab-df-buttons div {\n",
              "      margin-bottom: 4px;\n",
              "    }\n",
              "\n",
              "    [theme=dark] .colab-df-convert {\n",
              "      background-color: #3B4455;\n",
              "      fill: #D2E3FC;\n",
              "    }\n",
              "\n",
              "    [theme=dark] .colab-df-convert:hover {\n",
              "      background-color: #434B5C;\n",
              "      box-shadow: 0px 1px 3px 1px rgba(0, 0, 0, 0.15);\n",
              "      filter: drop-shadow(0px 1px 2px rgba(0, 0, 0, 0.3));\n",
              "      fill: #FFFFFF;\n",
              "    }\n",
              "  </style>\n",
              "\n",
              "    <script>\n",
              "      const buttonEl =\n",
              "        document.querySelector('#df-9d4465e9-06d5-4bba-a08f-d7b55b792c39 button.colab-df-convert');\n",
              "      buttonEl.style.display =\n",
              "        google.colab.kernel.accessAllowed ? 'block' : 'none';\n",
              "\n",
              "      async function convertToInteractive(key) {\n",
              "        const element = document.querySelector('#df-9d4465e9-06d5-4bba-a08f-d7b55b792c39');\n",
              "        const dataTable =\n",
              "          await google.colab.kernel.invokeFunction('convertToInteractive',\n",
              "                                                    [key], {});\n",
              "        if (!dataTable) return;\n",
              "\n",
              "        const docLinkHtml = 'Like what you see? Visit the ' +\n",
              "          '<a target=\"_blank\" href=https://colab.research.google.com/notebooks/data_table.ipynb>data table notebook</a>'\n",
              "          + ' to learn more about interactive tables.';\n",
              "        element.innerHTML = '';\n",
              "        dataTable['output_type'] = 'display_data';\n",
              "        await google.colab.output.renderOutput(dataTable, element);\n",
              "        const docLink = document.createElement('div');\n",
              "        docLink.innerHTML = docLinkHtml;\n",
              "        element.appendChild(docLink);\n",
              "      }\n",
              "    </script>\n",
              "  </div>\n",
              "\n",
              "\n",
              "    <div id=\"df-54fc469d-0212-4a58-bebc-87a41427a330\">\n",
              "      <button class=\"colab-df-quickchart\" onclick=\"quickchart('df-54fc469d-0212-4a58-bebc-87a41427a330')\"\n",
              "                title=\"Suggest charts\"\n",
              "                style=\"display:none;\">\n",
              "\n",
              "<svg xmlns=\"http://www.w3.org/2000/svg\" height=\"24px\"viewBox=\"0 0 24 24\"\n",
              "     width=\"24px\">\n",
              "    <g>\n",
              "        <path d=\"M19 3H5c-1.1 0-2 .9-2 2v14c0 1.1.9 2 2 2h14c1.1 0 2-.9 2-2V5c0-1.1-.9-2-2-2zM9 17H7v-7h2v7zm4 0h-2V7h2v10zm4 0h-2v-4h2v4z\"/>\n",
              "    </g>\n",
              "</svg>\n",
              "      </button>\n",
              "\n",
              "<style>\n",
              "  .colab-df-quickchart {\n",
              "      --bg-color: #E8F0FE;\n",
              "      --fill-color: #1967D2;\n",
              "      --hover-bg-color: #E2EBFA;\n",
              "      --hover-fill-color: #174EA6;\n",
              "      --disabled-fill-color: #AAA;\n",
              "      --disabled-bg-color: #DDD;\n",
              "  }\n",
              "\n",
              "  [theme=dark] .colab-df-quickchart {\n",
              "      --bg-color: #3B4455;\n",
              "      --fill-color: #D2E3FC;\n",
              "      --hover-bg-color: #434B5C;\n",
              "      --hover-fill-color: #FFFFFF;\n",
              "      --disabled-bg-color: #3B4455;\n",
              "      --disabled-fill-color: #666;\n",
              "  }\n",
              "\n",
              "  .colab-df-quickchart {\n",
              "    background-color: var(--bg-color);\n",
              "    border: none;\n",
              "    border-radius: 50%;\n",
              "    cursor: pointer;\n",
              "    display: none;\n",
              "    fill: var(--fill-color);\n",
              "    height: 32px;\n",
              "    padding: 0;\n",
              "    width: 32px;\n",
              "  }\n",
              "\n",
              "  .colab-df-quickchart:hover {\n",
              "    background-color: var(--hover-bg-color);\n",
              "    box-shadow: 0 1px 2px rgba(60, 64, 67, 0.3), 0 1px 3px 1px rgba(60, 64, 67, 0.15);\n",
              "    fill: var(--button-hover-fill-color);\n",
              "  }\n",
              "\n",
              "  .colab-df-quickchart-complete:disabled,\n",
              "  .colab-df-quickchart-complete:disabled:hover {\n",
              "    background-color: var(--disabled-bg-color);\n",
              "    fill: var(--disabled-fill-color);\n",
              "    box-shadow: none;\n",
              "  }\n",
              "\n",
              "  .colab-df-spinner {\n",
              "    border: 2px solid var(--fill-color);\n",
              "    border-color: transparent;\n",
              "    border-bottom-color: var(--fill-color);\n",
              "    animation:\n",
              "      spin 1s steps(1) infinite;\n",
              "  }\n",
              "\n",
              "  @keyframes spin {\n",
              "    0% {\n",
              "      border-color: transparent;\n",
              "      border-bottom-color: var(--fill-color);\n",
              "      border-left-color: var(--fill-color);\n",
              "    }\n",
              "    20% {\n",
              "      border-color: transparent;\n",
              "      border-left-color: var(--fill-color);\n",
              "      border-top-color: var(--fill-color);\n",
              "    }\n",
              "    30% {\n",
              "      border-color: transparent;\n",
              "      border-left-color: var(--fill-color);\n",
              "      border-top-color: var(--fill-color);\n",
              "      border-right-color: var(--fill-color);\n",
              "    }\n",
              "    40% {\n",
              "      border-color: transparent;\n",
              "      border-right-color: var(--fill-color);\n",
              "      border-top-color: var(--fill-color);\n",
              "    }\n",
              "    60% {\n",
              "      border-color: transparent;\n",
              "      border-right-color: var(--fill-color);\n",
              "    }\n",
              "    80% {\n",
              "      border-color: transparent;\n",
              "      border-right-color: var(--fill-color);\n",
              "      border-bottom-color: var(--fill-color);\n",
              "    }\n",
              "    90% {\n",
              "      border-color: transparent;\n",
              "      border-bottom-color: var(--fill-color);\n",
              "    }\n",
              "  }\n",
              "</style>\n",
              "\n",
              "      <script>\n",
              "        async function quickchart(key) {\n",
              "          const quickchartButtonEl =\n",
              "            document.querySelector('#' + key + ' button');\n",
              "          quickchartButtonEl.disabled = true;  // To prevent multiple clicks.\n",
              "          quickchartButtonEl.classList.add('colab-df-spinner');\n",
              "          try {\n",
              "            const charts = await google.colab.kernel.invokeFunction(\n",
              "                'suggestCharts', [key], {});\n",
              "          } catch (error) {\n",
              "            console.error('Error during call to suggestCharts:', error);\n",
              "          }\n",
              "          quickchartButtonEl.classList.remove('colab-df-spinner');\n",
              "          quickchartButtonEl.classList.add('colab-df-quickchart-complete');\n",
              "        }\n",
              "        (() => {\n",
              "          let quickchartButtonEl =\n",
              "            document.querySelector('#df-54fc469d-0212-4a58-bebc-87a41427a330 button');\n",
              "          quickchartButtonEl.style.display =\n",
              "            google.colab.kernel.accessAllowed ? 'block' : 'none';\n",
              "        })();\n",
              "      </script>\n",
              "    </div>\n",
              "\n",
              "    </div>\n",
              "  </div>\n"
            ],
            "application/vnd.google.colaboratory.intrinsic+json": {
              "type": "dataframe",
              "summary": "{\n  \"name\": \"display(df\",\n  \"rows\": 5,\n  \"fields\": [\n    {\n      \"column\": \"content\",\n      \"properties\": {\n        \"dtype\": \"string\",\n        \"num_unique_values\": 5,\n        \"samples\": [\n          \"Offline doesnt work, support doesnt help, just another corporate that doesnt giva a f\",\n          \"super song for everything\",\n          \"Super annoying ad experience! It feels like the app is designed solely to push users into buying their subscription. The constant barrage of ads is relentless and frustrating. They're shown back-to-back with no break, making it impossible to enjoy the app without feeling bombarded. Clearly, the focus is on monetization rather than user experience. Until they revamp their ad strategy, I'd advise others to steer clear.\"\n        ],\n        \"semantic_type\": \"\",\n        \"description\": \"\"\n      }\n    },\n    {\n      \"column\": \"score\",\n      \"properties\": {\n        \"dtype\": \"number\",\n        \"std\": 2,\n        \"min\": 1,\n        \"max\": 5,\n        \"num_unique_values\": 2,\n        \"samples\": [\n          1,\n          5\n        ],\n        \"semantic_type\": \"\",\n        \"description\": \"\"\n      }\n    },\n    {\n      \"column\": \"thumbsUpCount\",\n      \"properties\": {\n        \"dtype\": \"number\",\n        \"std\": 2,\n        \"min\": 0,\n        \"max\": 5,\n        \"num_unique_values\": 3,\n        \"samples\": [\n          1,\n          0\n        ],\n        \"semantic_type\": \"\",\n        \"description\": \"\"\n      }\n    },\n    {\n      \"column\": \"cleaned_content\",\n      \"properties\": {\n        \"dtype\": \"string\",\n        \"num_unique_values\": 4,\n        \"samples\": [\n          \"offline doesnt work support doesnt help another corporate doesnt giva f\",\n          \"super song everything\"\n        ],\n        \"semantic_type\": \"\",\n        \"description\": \"\"\n      }\n    }\n  ]\n}"
            }
          },
          "metadata": {}
        }
      ]
    },
    {
      "cell_type": "markdown",
      "metadata": {
        "id": "ed509f59"
      },
      "source": [
        "## 2. Language Detection: The Core Logic Gate\n",
        "\n",
        "The first crucial step is to reliably detect the language of each review. This will act as a switch to direct the review to the correct labeling pipeline, ensuring that English reviews are processed by VADER and Indonesian reviews by the Transformer model. A robust language detection library is essential for this task."
      ]
    },
    {
      "cell_type": "code",
      "metadata": {
        "colab": {
          "base_uri": "https://localhost:8080/",
          "height": 49,
          "referenced_widgets": [
            "0bb4ef10532c439db61453e739f4c1ea",
            "5cdd588ef2f64a8aa4db5a83958170e6",
            "244566c21d2547398a192f1b8347e27d",
            "80536f14af3c491599415b563f0f6e71",
            "3dfe372ddb8f45f1b9f08484f00e6c84",
            "44030ee1016946e9b786a089071cd69d",
            "731b9dbb7d384c77aa1d7770df153ed4",
            "1319c40de0884380bc777fca77f6bfe7",
            "3999c98dbadc4340b6a66712b3a2a33a",
            "ff13901432cd48c08250dd3f045797c4",
            "4b2a0fc050874eda95ce3412928ec609"
          ]
        },
        "id": "b3f878fa",
        "outputId": "7bccfff8-31da-4a72-a262-27810acc8052"
      },
      "source": [
        "# Function to detect language with error handling\n",
        "def detect_language(text):\n",
        "    try:\n",
        "        # Langdetect can struggle with very short texts\n",
        "        if pd.isna(text) or len(str(text).strip()) < 5:\n",
        "            return 'unknown'\n",
        "        return detect(str(text))\n",
        "    except:\n",
        "        return 'unknown' # Handle potential errors during detection\n",
        "\n",
        "# Apply language detection\n",
        "df['language'] = df['content'].progress_apply(detect_language)"
      ],
      "execution_count": null,
      "outputs": [
        {
          "data": {
            "application/vnd.jupyter.widget-view+json": {
              "model_id": "0bb4ef10532c439db61453e739f4c1ea",
              "version_major": 2,
              "version_minor": 0
            },
            "text/plain": [
              "  0%|          | 0/136324 [00:00<?, ?it/s]"
            ]
          },
          "metadata": {},
          "output_type": "display_data"
        }
      ]
    },
    {
      "cell_type": "code",
      "metadata": {
        "id": "863e08eb"
      },
      "source": [
        "# Show the distribution of detected languages\n",
        "display(df['language'].value_counts())"
      ],
      "execution_count": null,
      "outputs": []
    },
    {
      "cell_type": "markdown",
      "metadata": {
        "id": "a3b9e1de"
      },
      "source": [
        "## 3. Pipeline A - Labeling English Reviews with VADER\n",
        "\n",
        "For English reviews, we will use VADER (Valence Aware Dictionary and sEntiment Reasoner). VADER is a lexicon and rule-based sentiment analysis tool that is specifically attuned to sentiments expressed in social media, and it is known for being fast and effective for English text. It provides a compound score ranging from -1 (most negative) to +1 (most positive)."
      ]
    },
    {
      "cell_type": "code",
      "metadata": {
        "id": "c82966e1"
      },
      "source": [
        "# Initialize the VADER sentiment analyzer\n",
        "sia = SentimentIntensityAnalyzer()"
      ],
      "execution_count": null,
      "outputs": []
    },
    {
      "cell_type": "code",
      "metadata": {
        "id": "5b89223e"
      },
      "source": [
        "# Function to label English sentiment using VADER compound score\n",
        "def label_english_sentiment(text):\n",
        "    if pd.isna(text):\n",
        "        return None\n",
        "    scores = sia.polarity_scores(str(text))\n",
        "    compound_score = scores['compound']\n",
        "    if compound_score >= 0.05:\n",
        "        return 'positive'\n",
        "    elif compound_score <= -0.05:\n",
        "        return 'negative'\n",
        "    else:\n",
        "        return 'neutral'"
      ],
      "execution_count": null,
      "outputs": []
    },
    {
      "cell_type": "code",
      "metadata": {
        "id": "0d5c6023"
      },
      "source": [
        "# Apply VADER labeling to English reviews\n",
        "# Initialize sentiment_label column to None\n",
        "df['sentiment_label'] = None\n",
        "\n",
        "# Apply the labeling function only to English reviews\n",
        "english_mask = (df['language'] == 'en')\n",
        "df.loc[english_mask, 'sentiment_label'] = df.loc[english_mask, 'content'].progress_apply(label_english_sentiment)\n",
        "\n",
        "# Check how many English reviews were labeled\n",
        "print(f\"Number of English reviews labeled: {df[english_mask]['sentiment_label'].notna().sum()}\")"
      ],
      "execution_count": null,
      "outputs": []
    },
    {
      "cell_type": "markdown",
      "metadata": {
        "id": "621ab17e"
      },
      "source": [
        "## 4. Pipeline B - Labeling Indonesian Reviews with a Transformer Model\n",
        "\n",
        "For Indonesian reviews, a more sophisticated, context-aware model is needed as VADER is not designed for this language. We will use a pre-trained Transformer model that has been fine-tuned for Indonesian sentiment analysis. This type of model captures nuances in language more effectively than lexicon-based methods for complex languages."
      ]
    },
    {
      "cell_type": "code",
      "metadata": {
        "id": "a25fc62f"
      },
      "source": [
        "# Ambil token dari Colab Secrets\n",
        "# Pastikan nama secret-nya adalah 'HF_TOKEN'\n",
        "hf_token = userdata.get('HF_TOKEN')\n",
        "\n",
        "# Lakukan login\n",
        "login(token=hf_token)\n",
        "\n",
        "print(\"Login Hugging Face berhasil!\")"
      ],
      "execution_count": null,
      "outputs": []
    },
    {
      "cell_type": "code",
      "metadata": {
        "id": "6bdae559"
      },
      "source": [
        "# Define the model checkpoint for an Indonesian sentiment model\n",
        "# Using \"w11wo/indonesian-roberta-base-sentiment-classifier\" with pipeline.\n",
        "# If you encounter issues loading the model, ensure you are authenticated with Hugging Face\n",
        "# (e.g., by setting a HF_TOKEN in Colab secrets) or try a different public model.\n",
        "model_checkpoint = \"w11wo/indonesian-roberta-base-sentiment-classifier\"\n",
        "\n",
        "# Load the sentiment analysis pipeline\n",
        "try:\n",
        "    sentiment_pipeline = pipeline(\"sentiment-analysis\", model=model_checkpoint)\n",
        "    print(f\"Pipeline loaded successfully using model: {model_checkpoint}\")\n",
        "except Exception as e:\n",
        "    print(f\"Error loading pipeline with model {model_checkpoint}: {e}\")\n",
        "    sentiment_pipeline = None # Set to None if loading fails\n",
        "\n",
        "# Define a simple mapping for labels if needed (check model card for exact labels)\n",
        "# This model typically outputs 'LABEL_0', 'LABEL_1', 'LABEL_2'\n",
        "# You might need to inspect the model output or model card to map these to 'negative', 'neutral', 'positive'\n",
        "# For now, let's assume a common mapping or inspect the output later.\n",
        "# Based on the model card, LABEL_0=negative, LABEL_1=neutral, LABEL_2=positive\n",
        "id_label_mapping = {'LABEL_0': 'negative', 'LABEL_1': 'neutral', 'LABEL_2': 'positive'}"
      ],
      "execution_count": null,
      "outputs": []
    },
    {
      "cell_type": "markdown",
      "metadata": {
        "id": "a5c5084d"
      },
      "source": [
        "### Tutorial: Menghubungkan Token Hugging Face ke Google Colab\n",
        "\n",
        "Untuk dapat mengakses model-model tertentu di Hugging Face dari Google Colab, terutama jika model tersebut memerlukan autentikasi, Anda perlu menghubungkan token akses Hugging Face Anda ke lingkungan Colab. Cara paling aman adalah dengan menggunakan fitur **Colab Secrets**.\n",
        "\n",
        "Berikut langkah-langkahnya:\n",
        "\n",
        "1.  **Dapatkan Token Akses dari Hugging Face:**\n",
        "    *   Buka website Hugging Face: [huggingface.co](https://huggingface.co/)\n",
        "    *   Login ke akun Hugging Face Anda. Jika belum punya, daftar terlebih dahulu.\n",
        "    *   Setelah login, klik **foto profil Anda** di kanan atas halaman.\n",
        "    *   Pilih **\"Settings\"** dari menu dropdown.\n",
        "    *   Di menu navigasi sebelah kiri pada halaman Settings, klik **\"Access Tokens\"**.\n",
        "    *   Klik tombol **\"New token\"** untuk membuat token baru.\n",
        "    *   Beri nama token Anda (misalnya, `colab-access`, `my-project-token`, dll.). Nama ini hanya untuk identifikasi di akun Hugging Face Anda.\n",
        "    *   Pilih peran (Role) token: Untuk memuat model, peran **\"read\"** sudah cukup. Jika Anda berencana mengunggah sesuatu, pilih \"write\".\n",
        "    *   Klik tombol **\"Generate token\"**.\n",
        "    *   Token akan muncul di layar. **Salin token ini segera** karena Anda tidak akan bisa melihatnya lagi nanti. Simpan di tempat yang aman sementara jika perlu, tapi jangan masukkan langsung ke kode notebook yang akan dibagikan.\n",
        "\n",
        "2.  **Simpan Token di Google Colab Secrets:**\n",
        "    *   Kembali ke Google Colab notebook Anda.\n",
        "    *   Di sidebar kiri Colab, temukan dan klik ikon **Kunci (🔒)**. Ini adalah panel Secrets.\n",
        "    *   Klik tombol **\"+ New secret\"**.\n",
        "    *   Pada kolom **\"Name\"**, masukkan nama secret Anda. **Sangat penting** untuk menggunakan nama yang akan Anda panggil di kode. Dalam kasus notebook ini, kita menggunakan nama **`HF_TOKEN`**. Jadi, ketik `HF_TOKEN`.\n",
        "    *   Pada kolom **\"Value\"**, tempel (paste) token akses Hugging Face yang baru saja Anda salin.\n",
        "    *   Pastikan tombol **\"Notebook access\"** diaktifkan (berwarna hijau atau tercentang). Ini memungkinkan notebook Anda mengakses secret ini.\n",
        "    *   (Opsional) Anda bisa menambahkan deskripsi untuk secret ini.\n",
        "    *   Setelah selesai, secret akan tersimpan secara otomatis.\n",
        "\n",
        "3.  **Gunakan Token di Kode Colab untuk Login:**\n",
        "    *   Sekarang, Anda bisa menggunakan kode Python di notebook Anda untuk mengambil secret `HF_TOKEN` dan melakukan login ke Hugging Face. Kode ini akan mengambil token dari Colab Secrets, bukan dari kode yang terlihat, sehingga lebih aman.\n",
        "\n",
        "Berikut kode Python yang perlu Anda jalankan di notebook Anda (ini adalah sel yang sebelumnya error `SecretNotFoundError`):"
      ]
    },
    {
      "cell_type": "code",
      "metadata": {
        "id": "16a20ced"
      },
      "source": [
        "# Function to label Indonesian sentiment using the Transformer model\n",
        "def label_indonesian_sentiment(text):\n",
        "    if pd.isna(text):\n",
        "        return None\n",
        "    try:\n",
        "        # Tokenize the text\n",
        "        inputs = tokenizer(str(text), return_tensors=\"pt\", truncation=True, padding=True, max_length=512)\n",
        "\n",
        "        # Pass the tokens through the model\n",
        "        with torch.no_grad():\n",
        "            outputs = model(**inputs)\n",
        "\n",
        "        # Get the logits and apply softmax to get probabilities\n",
        "        logits = outputs.logits\n",
        "        probabilities = torch.softmax(logits, dim=1)[0]\n",
        "\n",
        "        # Determine the predicted label (index with the highest probability)\n",
        "        predicted_class_id = probabilities.argmax().item()\n",
        "\n",
        "        # Return the corresponding label\n",
        "        return id_labels[predicted_class_id]\n",
        "\n",
        "    except Exception as e:\n",
        "        print(f\"Error labeling text: {text[:50]}... Error: {e}\")\n",
        "        return None # Return None if labeling fails"
      ],
      "execution_count": null,
      "outputs": []
    },
    {
      "cell_type": "code",
      "metadata": {
        "id": "cb5a9295"
      },
      "source": [
        "# Apply Transformer labeling to Indonesian reviews that are not yet labeled\n",
        "indonesian_mask = (df['language'] == 'id') & (df['sentiment_label'].isna())\n",
        "df.loc[indonesian_mask, 'sentiment_label'] = df.loc[indonesian_mask, 'content'].progress_apply(label_indonesian_sentiment)\n",
        "\n",
        "# Check how many Indonesian reviews were labeled\n",
        "print(f\"Number of Indonesian reviews labeled: {df[indonesian_mask]['sentiment_label'].notna().sum()}\")"
      ],
      "execution_count": null,
      "outputs": []
    },
    {
      "cell_type": "markdown",
      "metadata": {
        "id": "f7fbf1f0"
      },
      "source": [
        "## 5. Reviewing and Finalizing the Labeled Dataset"
      ]
    },
    {
      "cell_type": "code",
      "metadata": {
        "id": "d9092d44"
      },
      "source": [
        "# Check for any reviews that were not labeled\n",
        "unlabeled_count = df['sentiment_label'].isnull().sum()\n",
        "print(f\"Number of reviews that were not labeled: {unlabeled_count}\")\n",
        "if unlabeled_count > 0:\n",
        "    print(\"Check the language detection results for these reviews, or if any errors occurred during labeling.\")"
      ],
      "execution_count": null,
      "outputs": []
    },
    {
      "cell_type": "code",
      "metadata": {
        "id": "a213e59c"
      },
      "source": [
        "# Display the final distribution of the combined labels\n",
        "display(df['sentiment_label'].value_counts())"
      ],
      "execution_count": null,
      "outputs": []
    },
    {
      "cell_type": "code",
      "metadata": {
        "id": "037991f5"
      },
      "source": [
        "# Display a few examples of English reviews and their VADER-generated labels\n",
        "print(\"Examples of English reviews and their VADER labels:\")\n",
        "display(df[df['language'] == 'en'][['content', 'sentiment_label']].head())"
      ],
      "execution_count": null,
      "outputs": []
    },
    {
      "cell_type": "code",
      "metadata": {
        "id": "8b5a4c5b"
      },
      "source": [
        "# Display a few examples of Indonesian reviews and their Transformer-generated labels\n",
        "print(\"\\nExamples of Indonesian reviews and their Transformer labels:\")\n",
        "display(df[df['language'] == 'id'][['content', 'sentiment_label']].head())"
      ],
      "execution_count": null,
      "outputs": []
    },
    {
      "cell_type": "markdown",
      "metadata": {
        "id": "15e16558"
      },
      "source": [
        "## 6. Saving the Labeled Dataset"
      ]
    },
    {
      "cell_type": "code",
      "metadata": {
        "id": "0a48f37d"
      },
      "source": [
        "# Define the output directory and filenames\n",
        "output_dir = '../data/processed/'\n",
        "output_path_en = os.path.join(output_dir, 'reviews_labeled_en.csv')\n",
        "output_path_id = os.path.join(output_dir, 'reviews_labeled_id.csv')\n",
        "output_path_other = os.path.join(output_dir, 'reviews_labeled_other_languages.csv') # To save other languages\n",
        "\n",
        "# Create the output directory if it doesn't exist\n",
        "os.makedirs(output_dir, exist_ok=True)\n",
        "print(f\"Output directory '{output_dir}' ensured to exist.\")\n",
        "\n",
        "# Filter the DataFrame by language\n",
        "df_en_labeled = df[df['language'] == 'en']\n",
        "df_id_labeled = df[df['language'] == 'id']\n",
        "df_other_languages = df[~df['language'].isin(['en', 'id'])]\n",
        "\n",
        "\n",
        "# Save the labeled DataFrames to separate CSV files\n",
        "try:\n",
        "    df_en_labeled.to_csv(output_path_en, index=False)\n",
        "    print(f\"Labeled English dataset saved to {output_path_en}\")\n",
        "except Exception as e:\n",
        "    print(f\"Error saving English dataset: {e}\")\n",
        "\n",
        "try:\n",
        "    df_id_labeled.to_csv(output_path_id, index=False)\n",
        "    print(f\"Labeled Indonesian dataset saved to {output_path_id}\")\n",
        "except Exception as e:\n",
        "    print(f\"Error saving Indonesian dataset: {e}\")\n",
        "\n",
        "try:\n",
        "    df_other_languages.to_csv(output_path_other, index=False)\n",
        "    print(f\"Labeled other languages dataset saved to {output_path_other}\")\n",
        "except Exception as e:\n",
        "    print(f\"Error saving other languages dataset: {e}\")"
      ],
      "execution_count": null,
      "outputs": []
    },
    {
      "cell_type": "markdown",
      "metadata": {
        "id": "31603400"
      },
      "source": [
        "## Conclusion\n",
        "\n",
        "This notebook successfully implemented a hybrid, language-specific approach to sentiment labeling on a bilingual dataset. By first detecting the language of each review, we were able to apply the most appropriate tool for each language – VADER for English and a Transformer model for Indonesian – resulting in a consistently labeled dataset ready for further analysis or model training."
      ]
    }
  ]
}